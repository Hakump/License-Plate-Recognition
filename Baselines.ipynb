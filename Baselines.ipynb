{
 "cells": [
  {
   "cell_type": "code",
   "execution_count": 1,
   "id": "55c15e54",
   "metadata": {},
   "outputs": [],
   "source": [
    "import pickle\n",
    "import numpy as np\n",
    "# load the datasets\n",
    "with open('datasets/datasets.pkl', 'rb') as f:\n",
    "    datasets = pickle.load(f)"
   ]
  },
  {
   "cell_type": "code",
   "execution_count": 2,
   "id": "c427cc9a",
   "metadata": {
    "scrolled": true
   },
   "outputs": [
    {
     "data": {
      "text/plain": [
       "{'0': 0,\n",
       " '1': 1,\n",
       " '2': 2,\n",
       " '3': 3,\n",
       " '4': 4,\n",
       " '5': 5,\n",
       " '6': 6,\n",
       " '7': 7,\n",
       " '8': 8,\n",
       " '9': 9,\n",
       " 'A': 10,\n",
       " 'B': 11,\n",
       " 'C': 12,\n",
       " 'D': 13,\n",
       " 'E': 14,\n",
       " 'F': 15,\n",
       " 'G': 16,\n",
       " 'H': 17,\n",
       " 'J': 18,\n",
       " 'K': 19,\n",
       " 'L': 20,\n",
       " 'M': 21,\n",
       " 'N': 22,\n",
       " 'P': 23,\n",
       " 'Q': 24,\n",
       " 'R': 25,\n",
       " 'S': 26,\n",
       " 'T': 27,\n",
       " 'U': 28,\n",
       " 'V': 29,\n",
       " 'W': 30,\n",
       " 'X': 31,\n",
       " 'Y': 32,\n",
       " 'Z': 33}"
      ]
     },
     "execution_count": 2,
     "metadata": {},
     "output_type": "execute_result"
    }
   ],
   "source": [
    "label2index = {k: v for v, k in enumerate(list(datasets[\"base\"].keys()))}\n",
    "label2index"
   ]
  },
  {
   "cell_type": "code",
   "execution_count": 3,
   "id": "17eeb809",
   "metadata": {},
   "outputs": [],
   "source": [
    "def from_dict_to_XY(adict, one_hot=False):\n",
    "    num_class = len(label2index.keys())\n",
    "    Y = []\n",
    "    X = []\n",
    "    for key in adict:\n",
    "        if one_hot:\n",
    "            label = np.zeros([len(adict[key]), num_class])\n",
    "            label[:, label2index[key]] = 1.0\n",
    "        else:\n",
    "            label = np.ones(len(adict[key]))*label2index[key]\n",
    "        Y.append(label)\n",
    "        X.append(adict[key])\n",
    "    X = np.vstack(X)\n",
    "    if one_hot:\n",
    "        Y = np.vstack(Y)\n",
    "    else:\n",
    "        Y = np.concatenate(Y)\n",
    "    return X, Y"
   ]
  },
  {
   "cell_type": "code",
   "execution_count": 4,
   "id": "55050324",
   "metadata": {},
   "outputs": [
    {
     "data": {
      "text/plain": [
       "['base', 'challenge', 'db', 'fn', 'weather']"
      ]
     },
     "execution_count": 4,
     "metadata": {},
     "output_type": "execute_result"
    }
   ],
   "source": [
    "dataset_names = list(datasets.keys())\n",
    "dataset_names"
   ]
  },
  {
   "cell_type": "code",
   "execution_count": 5,
   "id": "130d7c9e",
   "metadata": {},
   "outputs": [],
   "source": [
    "X_base, Y_base = from_dict_to_XY(datasets[\"base\"])"
   ]
  },
  {
   "cell_type": "code",
   "execution_count": 6,
   "id": "12e6627a",
   "metadata": {},
   "outputs": [
    {
     "data": {
      "text/plain": [
       "((8446,), (8446, 512))"
      ]
     },
     "execution_count": 6,
     "metadata": {},
     "output_type": "execute_result"
    }
   ],
   "source": [
    "Y_base.shape, X_base.shape"
   ]
  },
  {
   "cell_type": "code",
   "execution_count": 7,
   "id": "85bb8ba9",
   "metadata": {},
   "outputs": [],
   "source": [
    "model_zoo = {}"
   ]
  },
  {
   "cell_type": "markdown",
   "id": "abd1ab74",
   "metadata": {},
   "source": [
    "# SVM classification"
   ]
  },
  {
   "cell_type": "code",
   "execution_count": 8,
   "id": "34c2e425",
   "metadata": {},
   "outputs": [],
   "source": [
    "from sklearn.svm import SVC\n",
    "\n",
    "model = SVC(random_state=0, gamma='auto')\n",
    "model.fit(X_base, Y_base)\n",
    "model_zoo[\"svm\"] = model"
   ]
  },
  {
   "cell_type": "code",
   "execution_count": 9,
   "id": "9892bd62",
   "metadata": {},
   "outputs": [
    {
     "data": {
      "text/plain": [
       "1.0"
      ]
     },
     "execution_count": 9,
     "metadata": {},
     "output_type": "execute_result"
    }
   ],
   "source": [
    "model.score(X_base, Y_base)"
   ]
  },
  {
   "cell_type": "code",
   "execution_count": 10,
   "id": "fc42d219",
   "metadata": {},
   "outputs": [
    {
     "name": "stdout",
     "output_type": "stream",
     "text": [
      "Processing challenge\n",
      "Processing db\n",
      "Processing fn\n",
      "Processing weather\n"
     ]
    }
   ],
   "source": [
    "accs = {}\n",
    "for each_name in dataset_names[1:]:\n",
    "    print(\"Processing\", each_name)\n",
    "    X, Y = from_dict_to_XY(datasets[each_name])\n",
    "    accs[each_name] = model.score(X, Y)"
   ]
  },
  {
   "cell_type": "code",
   "execution_count": 11,
   "id": "80b6632c",
   "metadata": {},
   "outputs": [
    {
     "data": {
      "text/plain": [
       "{'challenge': 0.17335766423357665,\n",
       " 'db': 0.19903691813804172,\n",
       " 'fn': 0.2222222222222222,\n",
       " 'weather': 0.19622245540398742}"
      ]
     },
     "execution_count": 11,
     "metadata": {},
     "output_type": "execute_result"
    }
   ],
   "source": [
    "accs"
   ]
  },
  {
   "cell_type": "markdown",
   "id": "40ad14e3",
   "metadata": {},
   "source": [
    "# Logistic Regression"
   ]
  },
  {
   "cell_type": "code",
   "execution_count": 12,
   "id": "59b897ca",
   "metadata": {},
   "outputs": [
    {
     "name": "stderr",
     "output_type": "stream",
     "text": [
      "C:\\Users\\Wendi\\.conda\\envs\\ML\\lib\\site-packages\\sklearn\\linear_model\\_logistic.py:814: ConvergenceWarning: lbfgs failed to converge (status=1):\n",
      "STOP: TOTAL NO. of ITERATIONS REACHED LIMIT.\n",
      "\n",
      "Increase the number of iterations (max_iter) or scale the data as shown in:\n",
      "    https://scikit-learn.org/stable/modules/preprocessing.html\n",
      "Please also refer to the documentation for alternative solver options:\n",
      "    https://scikit-learn.org/stable/modules/linear_model.html#logistic-regression\n",
      "  n_iter_i = _check_optimize_result(\n"
     ]
    }
   ],
   "source": [
    "from sklearn.linear_model import LogisticRegression\n",
    "\n",
    "model = LogisticRegression(random_state=0)\n",
    "model.fit(X_base, Y_base)\n",
    "model_zoo[\"lgr\"] = model"
   ]
  },
  {
   "cell_type": "code",
   "execution_count": 13,
   "id": "5a8773bd",
   "metadata": {},
   "outputs": [
    {
     "data": {
      "text/plain": [
       "0.952758702344305"
      ]
     },
     "execution_count": 13,
     "metadata": {},
     "output_type": "execute_result"
    }
   ],
   "source": [
    "model.score(X_base, Y_base)"
   ]
  },
  {
   "cell_type": "code",
   "execution_count": 14,
   "id": "cd37d721",
   "metadata": {},
   "outputs": [
    {
     "name": "stdout",
     "output_type": "stream",
     "text": [
      "Processing challenge\n",
      "Processing db\n",
      "Processing fn\n",
      "Processing weather\n"
     ]
    }
   ],
   "source": [
    "accs = {}\n",
    "for each_name in dataset_names[1:]:\n",
    "    print(\"Processing\", each_name)\n",
    "    X, Y = from_dict_to_XY(datasets[each_name])\n",
    "    accs[each_name] = model.score(X, Y)"
   ]
  },
  {
   "cell_type": "code",
   "execution_count": 15,
   "id": "0cd70117",
   "metadata": {},
   "outputs": [
    {
     "data": {
      "text/plain": [
       "{'challenge': 0.7992700729927007,\n",
       " 'db': 0.7517388978063135,\n",
       " 'fn': 0.9176954732510288,\n",
       " 'weather': 0.8764428121720882}"
      ]
     },
     "execution_count": 15,
     "metadata": {},
     "output_type": "execute_result"
    }
   ],
   "source": [
    "accs"
   ]
  },
  {
   "cell_type": "markdown",
   "id": "1ad953e4",
   "metadata": {},
   "source": [
    "# Save baseline models"
   ]
  },
  {
   "cell_type": "code",
   "execution_count": 16,
   "id": "c938350e",
   "metadata": {},
   "outputs": [],
   "source": [
    "with open('models/lgr.pkl', 'wb') as f:\n",
    "    pickle.dump(model_zoo[\"lgr\"], f)\n",
    "with open('models/svm.pkl', 'wb') as f:\n",
    "    pickle.dump(model_zoo[\"svm\"], f)"
   ]
  }
 ],
 "metadata": {
  "kernelspec": {
   "display_name": "Python [conda env:.conda-ML] *",
   "language": "python",
   "name": "conda-env-.conda-ML-py"
  },
  "language_info": {
   "codemirror_mode": {
    "name": "ipython",
    "version": 3
   },
   "file_extension": ".py",
   "mimetype": "text/x-python",
   "name": "python",
   "nbconvert_exporter": "python",
   "pygments_lexer": "ipython3",
   "version": "3.8.10"
  }
 },
 "nbformat": 4,
 "nbformat_minor": 5
}
