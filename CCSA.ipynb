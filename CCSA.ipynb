{
 "cells": [
  {
   "cell_type": "code",
   "execution_count": 1,
   "outputs": [],
   "source": [
    "import  os, glob\n",
    "import  random, csv\n",
    "import tensorflow as tf\n",
    "import numpy as np\n",
    "from matplotlib import pyplot as plt\n",
    "import pickle\n",
    "from PIL import Image\n",
    "import adapt\n",
    "from adapt.feature_based import DANN, CORAL, DeepCORAL, CDAN\n",
    "from tensorflow import keras\n",
    "from keras import layers\n",
    "from tensorflow.keras import Sequential\n",
    "from tensorflow.keras.layers import Input, Dense, Reshape, Dropout, Convolution2D, MaxPooling2D, Flatten\n",
    "from tensorflow.keras.optimizers import Adam\n",
    "from keras.utils.np_utils import to_categorical"
   ],
   "metadata": {
    "collapsed": false,
    "pycharm": {
     "name": "#%%\n"
    }
   }
  },
  {
   "cell_type": "code",
   "execution_count": 2,
   "outputs": [],
   "source": [
    "path = \"I:/Temp/CS 766 CCPD Data\"\n",
    "dataset_path = { \"base\": path + \"/ccpd/splitted_plates_base\",\n",
    "                \"challenge\": path + \"/ccpd/splitted_plates_challenge\",\n",
    "               \"db\": path + \"/ccpd/splitted_plates_db\",\n",
    "               \"fn\": path + \"/ccpd/splitted_plates_fn\",\n",
    "               \"weather\": path + \"/ccpd/splitted_plates_weather\"}\n",
    "img_h, img_w = 32,16"
   ],
   "metadata": {
    "collapsed": false,
    "pycharm": {
     "name": "#%%\n"
    }
   }
  },
  {
   "cell_type": "code",
   "execution_count": null,
   "outputs": [],
   "source": [
    "def get_Xy():\n",
    "\n",
    "    X = []\n",
    "    y = []\n",
    "\n",
    "    for r, d, f in os.walk(path):\n",
    "        for direct in d:\n",
    "            if not \".ipynb_checkpoints\" in direct:\n",
    "                for r, d, f in os.walk(os.path.join(path , direct)):\n",
    "                    for file in f:\n",
    "                        path_to_image = os.path.join(r, file)\n",
    "                        if not \".ipynb_checkpoints\" in path_to_image:\n",
    "                            image = Image.open(path_to_image)\n",
    "                            image = image.resize((32, 16), Image.ANTIALIAS)\n",
    "                            image = np.array(image, dtype=int)\n",
    "                            X.append(image)\n",
    "                            y.append(direct)\n",
    "    return X, y\n",
    "\n",
    "Xs, ys = get_Xy()"
   ],
   "metadata": {
    "collapsed": false,
    "pycharm": {
     "name": "#%%\n"
    }
   }
  },
  {
   "cell_type": "code",
   "execution_count": 3,
   "outputs": [],
   "source": [
    "def load_csv(root, filename, name2label):\n",
    "    # From csv file return images dir,labels list\n",
    "    if not os.path.exists(os.path.join(root, filename)):\n",
    "        images = []\n",
    "        for name in name2label.keys():\n",
    "            images += glob.glob(os.path.join(root, name, '*.png'))\n",
    "            images += glob.glob(os.path.join(root, name, '*.jpg'))\n",
    "            images += glob.glob(os.path.join(root, name, '*.jpeg'))\n",
    "        #print(len(images), images)\n",
    "        random.shuffle(images) # shuffle images\n",
    "        with open(os.path.join(root, filename), mode='w', newline='') as f:\n",
    "            writer = csv.writer(f)\n",
    "            for img in images:\n",
    "                name = img.split(os.sep)[-2]\n",
    "                label = name2label[name]\n",
    "                writer.writerow([img, label])\n",
    "            print('written into csv file:', filename)\n",
    "    # read existed csv\n",
    "    images, labels = [], []\n",
    "    with open(os.path.join(root, filename)) as f:\n",
    "        reader = csv.reader(f)\n",
    "        for row in reader:\n",
    "            img, label = row\n",
    "            label = int(label)\n",
    "            images.append(img)\n",
    "            labels.append(label)\n",
    "    # return img dir and label\n",
    "    return images, labels\n",
    "\n",
    "def load_ccpd(root, mode='train'):\n",
    "    name2label = {}  # \"sq...\":0\n",
    "    # iterate sub dir, sort, while keep mapping\n",
    "    for name in sorted(os.listdir(os.path.join(root))):\n",
    "        # skip non file folder\n",
    "        if not os.path.isdir(os.path.join(root, name)):\n",
    "            continue\n",
    "        # give each category a number\n",
    "        name2label[name] = len(name2label.keys())\n",
    "    images, labels = load_csv(root, 'images.csv', name2label)\n",
    "    if mode == 'train':  # 20%\n",
    "        images = images[:int(0.2 * len(images))]\n",
    "        labels = labels[:int(0.2 * len(labels))]\n",
    "    elif mode == 'val':  # 20% = 60%->80%\n",
    "        images = images[int(0.6 * len(images)):int(0.8 * len(images))]\n",
    "        labels = labels[int(0.6 * len(labels)):int(0.8 * len(labels))]\n",
    "    else:  # all\n",
    "        images = images\n",
    "        labels = labels\n",
    "    return images, labels, name2label\n",
    "\n",
    "# def readCcpdImg(images_dir):\n",
    "#     X = []\n",
    "#     for img_dir in images_dir:\n",
    "#         img = Image.open(img_dir)\n",
    "#         img = img.convert('L')# conver to grayscale images\n",
    "#         img = img.resize([img_w, img_h])\n",
    "#         img_np = np.asarray(img)\n",
    "#         X.append(img_np.reshape([-1]))\n",
    "#     X = np.array(X)\n",
    "#     return X\n",
    "\n",
    "def readCcpdImg_noreshape(images_dir):\n",
    "    X = []\n",
    "    for img_dir in images_dir:\n",
    "        img = Image.open(img_dir)\n",
    "        img = img.convert('RGB') # conver to grayscale images\n",
    "        img = img.resize([img_w, img_h],Image.ANTIALIAS)\n",
    "        img_np = np.asarray(img)\n",
    "        X.append(img_np)\n",
    "    X = np.array(X)\n",
    "    return X\n",
    "\n",
    "# def get_img_label(path, mode,num_classes=35):\n",
    "#     images_dir, labels, table = load_ccpd(dataset_path[path],mode=mode)\n",
    "#     images = readCcpdImg(images_dir)\n",
    "#     labels = np.array(labels)\n",
    "#     labels = to_categorical(labels, num_classes=num_classes)\n",
    "#     return images,labels\n",
    "\n",
    "def get_img_label_noreshape(path, mode,num_classes=35):\n",
    "    images_dir, labels, table = load_ccpd(dataset_path[path],mode=mode)\n",
    "    images = readCcpdImg_noreshape(images_dir)\n",
    "    labels = np.array(labels)\n",
    "    labels = to_categorical(labels, num_classes=num_classes)\n",
    "    return images,labels"
   ],
   "metadata": {
    "collapsed": false,
    "pycharm": {
     "name": "#%%\n"
    }
   }
  },
  {
   "cell_type": "code",
   "execution_count": 4,
   "outputs": [],
   "source": [
    "def get_encoder(input_shape=(32,16,3)):\n",
    "    model = Sequential()\n",
    "    model.add(Convolution2D(32,(3,3),activation='relu', padding='valid', input_shape=input_shape))\n",
    "    model.add(MaxPooling2D(pool_size=(2,2)))\n",
    "    model.add(Convolution2D(32,(3,3),activation='relu'))\n",
    "    model.add(MaxPooling2D(pool_size=(2,2)))\n",
    "    model.add(Dropout(0.25))\n",
    "    model.add(Flatten())\n",
    "    model.add(Dense(720, activation=\"relu\"))\n",
    "    model.add(Dense(168*3, activation=\"relu\"))\n",
    "    return model\n",
    "\n",
    "def get_task(input_shape=(168*3,)):\n",
    "    model = Sequential()\n",
    "    model.add(Dense(168*3, activation='relu',input_shape=input_shape))\n",
    "    model.add(Dropout(0.5))\n",
    "    model.add(Dense(34, activation=\"softmax\"))\n",
    "    return model\n",
    "\n",
    "def get_discriminator(input_shape=(128,)):\n",
    "    model = Sequential()\n",
    "    model.add(Dense(128, activation='relu',input_shape=input_shape))\n",
    "    model.add(Dense(64, activation='relu'))\n",
    "    model.add(Dense(32, activation='relu'))\n",
    "    model.add(Dense(1, activation='sigmoid'))\n",
    "    return model"
   ],
   "metadata": {
    "collapsed": false,
    "pycharm": {
     "name": "#%%\n"
    }
   }
  },
  {
   "cell_type": "code",
   "execution_count": 8,
   "outputs": [],
   "source": [
    "base_images,base_labels = get_img_label_noreshape('base', 'all', num_classes=34)"
   ],
   "metadata": {
    "collapsed": false,
    "pycharm": {
     "name": "#%%\n"
    }
   }
  },
  {
   "cell_type": "code",
   "execution_count": 9,
   "outputs": [],
   "source": [
    "weather_images_t,weather_labels_t = get_img_label_noreshape('weather', 'train', num_classes=34)"
   ],
   "metadata": {
    "collapsed": false,
    "pycharm": {
     "name": "#%%\n"
    }
   }
  },
  {
   "cell_type": "code",
   "execution_count": 10,
   "outputs": [
    {
     "name": "stdout",
     "output_type": "stream",
     "text": [
      "Epoch 1/60\n",
      "286/286 [==============================] - 7s 15ms/step - loss: 2.9092 - acc: 0.2825 - contrast: 91.9813\n",
      "Epoch 2/60\n",
      "286/286 [==============================] - 4s 14ms/step - loss: 1.9572 - acc: 0.4335 - contrast: 0.3454\n",
      "Epoch 3/60\n",
      "286/286 [==============================] - 4s 14ms/step - loss: 1.5898 - acc: 0.5092 - contrast: 0.2951\n",
      "Epoch 4/60\n",
      "286/286 [==============================] - 4s 14ms/step - loss: 1.3283 - acc: 0.5868 - contrast: 0.2652\n",
      "Epoch 5/60\n",
      "286/286 [==============================] - 4s 14ms/step - loss: 1.1213 - acc: 0.6460 - contrast: 0.2414\n",
      "Epoch 6/60\n",
      "286/286 [==============================] - 4s 14ms/step - loss: 1.0003 - acc: 0.6867 - contrast: 0.2211\n",
      "Epoch 7/60\n",
      "286/286 [==============================] - 4s 15ms/step - loss: 0.8613 - acc: 0.7359 - contrast: 0.2153\n",
      "Epoch 8/60\n",
      "286/286 [==============================] - 4s 15ms/step - loss: 0.7294 - acc: 0.7806 - contrast: 0.1898\n",
      "Epoch 9/60\n",
      "286/286 [==============================] - 4s 15ms/step - loss: 0.6454 - acc: 0.8107 - contrast: 0.1857\n",
      "Epoch 10/60\n",
      "286/286 [==============================] - 4s 14ms/step - loss: 0.6068 - acc: 0.8241 - contrast: 0.1813\n",
      "Epoch 11/60\n",
      "286/286 [==============================] - 4s 14ms/step - loss: 0.5212 - acc: 0.8470 - contrast: 0.1569\n",
      "Epoch 12/60\n",
      "286/286 [==============================] - 4s 14ms/step - loss: 0.4907 - acc: 0.8598 - contrast: 0.1537\n",
      "Epoch 13/60\n",
      "286/286 [==============================] - 4s 15ms/step - loss: 0.4452 - acc: 0.8727 - contrast: 0.1455\n",
      "Epoch 14/60\n",
      "286/286 [==============================] - 4s 15ms/step - loss: 0.4250 - acc: 0.8742 - contrast: 0.1420\n",
      "Epoch 15/60\n",
      "286/286 [==============================] - 4s 14ms/step - loss: 0.3838 - acc: 0.8894 - contrast: 0.1290\n",
      "Epoch 16/60\n",
      "286/286 [==============================] - 4s 14ms/step - loss: 0.3666 - acc: 0.8956 - contrast: 0.1277\n",
      "Epoch 17/60\n",
      "286/286 [==============================] - 4s 14ms/step - loss: 0.3391 - acc: 0.8988 - contrast: 0.1224\n",
      "Epoch 18/60\n",
      "286/286 [==============================] - 4s 15ms/step - loss: 0.3071 - acc: 0.9102 - contrast: 0.1164\n",
      "Epoch 19/60\n",
      "286/286 [==============================] - 4s 14ms/step - loss: 0.3043 - acc: 0.9146 - contrast: 0.1220\n",
      "Epoch 20/60\n",
      "286/286 [==============================] - 4s 15ms/step - loss: 0.2714 - acc: 0.9225 - contrast: 0.1119\n",
      "Epoch 21/60\n",
      "286/286 [==============================] - 4s 15ms/step - loss: 0.2523 - acc: 0.9256 - contrast: 0.1151\n",
      "Epoch 22/60\n",
      "286/286 [==============================] - 4s 15ms/step - loss: 0.2525 - acc: 0.9280 - contrast: 0.1049\n",
      "Epoch 23/60\n",
      "286/286 [==============================] - 4s 15ms/step - loss: 0.2425 - acc: 0.9313 - contrast: 0.1087\n",
      "Epoch 24/60\n",
      "286/286 [==============================] - 4s 15ms/step - loss: 0.2191 - acc: 0.9378 - contrast: 0.1008\n",
      "Epoch 25/60\n",
      "286/286 [==============================] - 4s 15ms/step - loss: 0.2007 - acc: 0.9418 - contrast: 0.1005\n",
      "Epoch 26/60\n",
      "286/286 [==============================] - 4s 15ms/step - loss: 0.1738 - acc: 0.9524 - contrast: 0.0980\n",
      "Epoch 27/60\n",
      "286/286 [==============================] - 4s 15ms/step - loss: 0.1767 - acc: 0.9509 - contrast: 0.0943\n",
      "Epoch 28/60\n",
      "286/286 [==============================] - 4s 14ms/step - loss: 0.2053 - acc: 0.9443 - contrast: 0.0992\n",
      "Epoch 29/60\n",
      "286/286 [==============================] - 4s 15ms/step - loss: 0.1803 - acc: 0.9513 - contrast: 0.0977\n",
      "Epoch 30/60\n",
      "286/286 [==============================] - 4s 14ms/step - loss: 0.1443 - acc: 0.9625 - contrast: 0.0850\n",
      "Epoch 31/60\n",
      "286/286 [==============================] - 4s 14ms/step - loss: 0.1530 - acc: 0.9596 - contrast: 0.0809\n",
      "Epoch 32/60\n",
      "286/286 [==============================] - 4s 14ms/step - loss: 0.1344 - acc: 0.9637 - contrast: 0.0806\n",
      "Epoch 33/60\n",
      "286/286 [==============================] - 4s 14ms/step - loss: 0.1716 - acc: 0.9565 - contrast: 0.0855\n",
      "Epoch 34/60\n",
      "286/286 [==============================] - 4s 15ms/step - loss: 0.1594 - acc: 0.9601 - contrast: 0.0869\n",
      "Epoch 35/60\n",
      "286/286 [==============================] - 4s 15ms/step - loss: 0.1481 - acc: 0.9631 - contrast: 0.0808\n",
      "Epoch 36/60\n",
      "286/286 [==============================] - 4s 15ms/step - loss: 0.1470 - acc: 0.9619 - contrast: 0.0832\n",
      "Epoch 37/60\n",
      "286/286 [==============================] - 4s 14ms/step - loss: 0.1403 - acc: 0.9634 - contrast: 0.0822\n",
      "Epoch 38/60\n",
      "286/286 [==============================] - 4s 14ms/step - loss: 0.1208 - acc: 0.9691 - contrast: 0.0762\n",
      "Epoch 39/60\n",
      "286/286 [==============================] - 4s 14ms/step - loss: 0.1431 - acc: 0.9643 - contrast: 0.0765\n",
      "Epoch 40/60\n",
      "286/286 [==============================] - 4s 14ms/step - loss: 0.1509 - acc: 0.9635 - contrast: 0.0850\n",
      "Epoch 41/60\n",
      "286/286 [==============================] - 4s 14ms/step - loss: 0.1120 - acc: 0.9709 - contrast: 0.0722\n",
      "Epoch 42/60\n",
      "286/286 [==============================] - 4s 14ms/step - loss: 0.1236 - acc: 0.9710 - contrast: 0.0764\n",
      "Epoch 43/60\n",
      "286/286 [==============================] - 4s 14ms/step - loss: 0.1145 - acc: 0.9722 - contrast: 0.0694\n",
      "Epoch 44/60\n",
      "286/286 [==============================] - 4s 14ms/step - loss: 0.1210 - acc: 0.9709 - contrast: 0.0687\n",
      "Epoch 45/60\n",
      "286/286 [==============================] - 4s 14ms/step - loss: 0.1105 - acc: 0.9716 - contrast: 0.0714\n",
      "Epoch 46/60\n",
      "286/286 [==============================] - 4s 14ms/step - loss: 0.0935 - acc: 0.9781 - contrast: 0.0651\n",
      "Epoch 47/60\n",
      "286/286 [==============================] - 4s 14ms/step - loss: 0.1429 - acc: 0.9638 - contrast: 0.0818\n",
      "Epoch 48/60\n",
      "286/286 [==============================] - 4s 14ms/step - loss: 0.1118 - acc: 0.9715 - contrast: 0.0699\n",
      "Epoch 49/60\n",
      "286/286 [==============================] - 4s 15ms/step - loss: 0.0975 - acc: 0.9758 - contrast: 0.0658\n",
      "Epoch 50/60\n",
      "286/286 [==============================] - 4s 15ms/step - loss: 0.0876 - acc: 0.9794 - contrast: 0.0627\n",
      "Epoch 51/60\n",
      "286/286 [==============================] - 4s 14ms/step - loss: 0.0792 - acc: 0.9813 - contrast: 0.0597\n",
      "Epoch 52/60\n",
      "286/286 [==============================] - 4s 14ms/step - loss: 0.0819 - acc: 0.9809 - contrast: 0.0551\n",
      "Epoch 53/60\n",
      "286/286 [==============================] - 4s 14ms/step - loss: 0.0894 - acc: 0.9777 - contrast: 0.0568\n",
      "Epoch 54/60\n",
      "286/286 [==============================] - 4s 14ms/step - loss: 0.0878 - acc: 0.9781 - contrast: 0.0597\n",
      "Epoch 55/60\n",
      "286/286 [==============================] - 4s 14ms/step - loss: 0.0964 - acc: 0.9762 - contrast: 0.0643\n",
      "Epoch 56/60\n",
      "286/286 [==============================] - 4s 15ms/step - loss: 0.0693 - acc: 0.9816 - contrast: 0.0530\n",
      "Epoch 57/60\n",
      "286/286 [==============================] - 4s 14ms/step - loss: 0.1081 - acc: 0.9742 - contrast: 0.0634\n",
      "Epoch 58/60\n",
      "286/286 [==============================] - 4s 15ms/step - loss: 0.0807 - acc: 0.9811 - contrast: 0.0571\n",
      "Epoch 59/60\n",
      "286/286 [==============================] - 4s 14ms/step - loss: 0.0733 - acc: 0.9816 - contrast: 0.0573\n",
      "Epoch 60/60\n",
      "286/286 [==============================] - 4s 14ms/step - loss: 0.0729 - acc: 0.9835 - contrast: 0.0503\n",
      "1/1 [==============================] - 1s 1s/step - loss: 0.0255 - acc: 0.9954\n"
     ]
    },
    {
     "data": {
      "text/plain": "0.025460468605160713"
     },
     "execution_count": 10,
     "metadata": {},
     "output_type": "execute_result"
    }
   ],
   "source": [
    "from adapt.feature_based import CCSA\n",
    "\n",
    "weather_model_CCSA = CCSA(encoder=get_encoder(), task=get_task(), Xt=weather_images_t, yt=weather_labels_t, optimizer=Adam(0.001), loss='CategoricalCrossentropy', metrics=[\"acc\"],random_state=0)\n",
    "weather_model_CCSA.fit(X=base_images, y=base_labels, Xt=weather_images_t, yt=weather_labels_t, epochs=45,verbose=1,batch_size = 32)\n",
    "weather_model_CCSA.score(base_images, base_labels)\n",
    "# weather_model_CCSA.score(weather_images, weather_labels)"
   ],
   "metadata": {
    "collapsed": false,
    "pycharm": {
     "name": "#%%\n"
    }
   }
  },
  {
   "cell_type": "code",
   "execution_count": 11,
   "outputs": [
    {
     "name": "stdout",
     "output_type": "stream",
     "text": [
      "1/1 [==============================] - 1s 600ms/step - loss: 0.1293 - acc: 0.9746\n"
     ]
    },
    {
     "data": {
      "text/plain": "0.1292838752269745"
     },
     "execution_count": 11,
     "metadata": {},
     "output_type": "execute_result"
    }
   ],
   "source": [
    "weather_images,weather_labels = get_img_label_noreshape('weather', 'all', num_classes=34)\n",
    "weather_model_CCSA.score(weather_images, weather_labels)"
   ],
   "metadata": {
    "collapsed": false,
    "pycharm": {
     "name": "#%%\n"
    }
   }
  },
  {
   "cell_type": "code",
   "execution_count": 12,
   "outputs": [],
   "source": [
    "save_check_pt = 'checkpoints_CCSA'"
   ],
   "metadata": {
    "collapsed": false,
    "pycharm": {
     "name": "#%%\n"
    }
   }
  },
  {
   "cell_type": "code",
   "execution_count": 13,
   "outputs": [],
   "source": [
    "weather_model_CCSA.save_weights(save_check_pt+ '/weather')"
   ],
   "metadata": {
    "collapsed": false,
    "pycharm": {
     "name": "#%%\n"
    }
   }
  },
  {
   "cell_type": "code",
   "execution_count": 14,
   "outputs": [],
   "source": [
    "challenge_images_t,challenge_labels_t = get_img_label_noreshape('challenge', 'train', num_classes=34)\n",
    "challenge_model_CCSA = CCSA(encoder=get_encoder(), task=get_task(), Xt=challenge_images_t, yt=challenge_labels_t, optimizer=Adam(0.001), loss='CategoricalCrossentropy', metrics=[\"acc\"],random_state=0)"
   ],
   "metadata": {
    "collapsed": false,
    "pycharm": {
     "name": "#%%\n"
    }
   }
  },
  {
   "cell_type": "code",
   "execution_count": 15,
   "outputs": [
    {
     "name": "stdout",
     "output_type": "stream",
     "text": [
      "Epoch 1/60\n",
      "266/266 [==============================] - 5s 15ms/step - loss: 2.8951 - acc: 0.3097 - contrast: 171.9930\n",
      "Epoch 2/60\n",
      "266/266 [==============================] - 4s 14ms/step - loss: 1.9070 - acc: 0.5093 - contrast: 0.4240\n",
      "Epoch 3/60\n",
      "266/266 [==============================] - 4s 14ms/step - loss: 1.4874 - acc: 0.6039 - contrast: 0.3669\n",
      "Epoch 4/60\n",
      "266/266 [==============================] - 4s 14ms/step - loss: 1.2843 - acc: 0.6584 - contrast: 0.3403\n",
      "Epoch 5/60\n",
      "266/266 [==============================] - 4s 14ms/step - loss: 1.1182 - acc: 0.6935 - contrast: 0.3096\n",
      "Epoch 6/60\n",
      "266/266 [==============================] - 4s 14ms/step - loss: 1.0346 - acc: 0.7114 - contrast: 0.2843\n",
      "Epoch 7/60\n",
      "266/266 [==============================] - 4s 14ms/step - loss: 0.9637 - acc: 0.7295 - contrast: 0.2572\n",
      "Epoch 8/60\n",
      "266/266 [==============================] - 4s 14ms/step - loss: 0.8868 - acc: 0.7537 - contrast: 0.2382\n",
      "Epoch 9/60\n",
      "266/266 [==============================] - 4s 14ms/step - loss: 0.8382 - acc: 0.7653 - contrast: 0.2206\n",
      "Epoch 10/60\n",
      "266/266 [==============================] - 4s 14ms/step - loss: 0.8260 - acc: 0.7669 - contrast: 0.2142\n",
      "Epoch 11/60\n",
      "266/266 [==============================] - 4s 14ms/step - loss: 0.7720 - acc: 0.7784 - contrast: 0.2084\n",
      "Epoch 12/60\n",
      "266/266 [==============================] - 4s 14ms/step - loss: 0.7222 - acc: 0.7917 - contrast: 0.2062\n",
      "Epoch 13/60\n",
      "266/266 [==============================] - 4s 14ms/step - loss: 0.7008 - acc: 0.7985 - contrast: 0.1864\n",
      "Epoch 14/60\n",
      "266/266 [==============================] - 4s 14ms/step - loss: 0.6896 - acc: 0.7958 - contrast: 0.1900\n",
      "Epoch 15/60\n",
      "266/266 [==============================] - 4s 15ms/step - loss: 0.6754 - acc: 0.8042 - contrast: 0.1759\n",
      "Epoch 16/60\n",
      "266/266 [==============================] - 4s 14ms/step - loss: 0.6491 - acc: 0.8132 - contrast: 0.1738\n",
      "Epoch 17/60\n",
      "266/266 [==============================] - 4s 14ms/step - loss: 0.6428 - acc: 0.8152 - contrast: 0.1824\n",
      "Epoch 18/60\n",
      "266/266 [==============================] - 4s 14ms/step - loss: 0.5698 - acc: 0.8338 - contrast: 0.1619\n",
      "Epoch 19/60\n",
      "266/266 [==============================] - 4s 14ms/step - loss: 0.5600 - acc: 0.8383 - contrast: 0.1531\n",
      "Epoch 20/60\n",
      "266/266 [==============================] - 4s 14ms/step - loss: 0.5647 - acc: 0.8376 - contrast: 0.1609\n",
      "Epoch 21/60\n",
      "266/266 [==============================] - 4s 14ms/step - loss: 0.5230 - acc: 0.8512 - contrast: 0.1458\n",
      "Epoch 22/60\n",
      "266/266 [==============================] - 4s 14ms/step - loss: 0.5016 - acc: 0.8590 - contrast: 0.1383\n",
      "Epoch 23/60\n",
      "266/266 [==============================] - 4s 14ms/step - loss: 0.4946 - acc: 0.8579 - contrast: 0.1469\n",
      "Epoch 24/60\n",
      "266/266 [==============================] - 4s 14ms/step - loss: 0.4758 - acc: 0.8669 - contrast: 0.1428\n",
      "Epoch 25/60\n",
      "266/266 [==============================] - 4s 14ms/step - loss: 0.4497 - acc: 0.8691 - contrast: 0.1389\n",
      "Epoch 26/60\n",
      "266/266 [==============================] - 4s 14ms/step - loss: 0.4321 - acc: 0.8799 - contrast: 0.1296\n",
      "Epoch 27/60\n",
      "266/266 [==============================] - 4s 14ms/step - loss: 0.4034 - acc: 0.8879 - contrast: 0.1237\n",
      "Epoch 28/60\n",
      "266/266 [==============================] - 4s 14ms/step - loss: 0.4030 - acc: 0.8890 - contrast: 0.1142\n",
      "Epoch 29/60\n",
      "266/266 [==============================] - 4s 14ms/step - loss: 0.3852 - acc: 0.8950 - contrast: 0.1129\n",
      "Epoch 30/60\n",
      "266/266 [==============================] - 4s 14ms/step - loss: 0.3794 - acc: 0.8934 - contrast: 0.1157\n",
      "Epoch 31/60\n",
      "266/266 [==============================] - 4s 14ms/step - loss: 0.3736 - acc: 0.8952 - contrast: 0.1176\n",
      "Epoch 32/60\n",
      "266/266 [==============================] - 4s 14ms/step - loss: 0.3516 - acc: 0.9036 - contrast: 0.1107\n",
      "Epoch 33/60\n",
      "266/266 [==============================] - 4s 14ms/step - loss: 0.3168 - acc: 0.9093 - contrast: 0.1045\n",
      "Epoch 34/60\n",
      "266/266 [==============================] - 4s 14ms/step - loss: 0.3241 - acc: 0.9085 - contrast: 0.1049\n",
      "Epoch 35/60\n",
      "266/266 [==============================] - 4s 14ms/step - loss: 0.3364 - acc: 0.9068 - contrast: 0.1076\n",
      "Epoch 36/60\n",
      "266/266 [==============================] - 4s 14ms/step - loss: 0.3144 - acc: 0.9119 - contrast: 0.1023\n",
      "Epoch 37/60\n",
      "266/266 [==============================] - 4s 14ms/step - loss: 0.2736 - acc: 0.9238 - contrast: 0.0948\n",
      "Epoch 38/60\n",
      "266/266 [==============================] - 4s 14ms/step - loss: 0.2641 - acc: 0.9279 - contrast: 0.0967\n",
      "Epoch 39/60\n",
      "266/266 [==============================] - 4s 14ms/step - loss: 0.2456 - acc: 0.9332 - contrast: 0.0869\n",
      "Epoch 40/60\n",
      "266/266 [==============================] - 4s 14ms/step - loss: 0.2368 - acc: 0.9374 - contrast: 0.0857\n",
      "Epoch 41/60\n",
      "266/266 [==============================] - 4s 14ms/step - loss: 0.2366 - acc: 0.9364 - contrast: 0.0828\n",
      "Epoch 42/60\n",
      "266/266 [==============================] - 4s 14ms/step - loss: 0.2383 - acc: 0.9364 - contrast: 0.0787\n",
      "Epoch 43/60\n",
      "266/266 [==============================] - 4s 15ms/step - loss: 0.2240 - acc: 0.9387 - contrast: 0.0792\n",
      "Epoch 44/60\n",
      "266/266 [==============================] - 4s 14ms/step - loss: 0.2208 - acc: 0.9415 - contrast: 0.0793\n",
      "Epoch 45/60\n",
      "266/266 [==============================] - 4s 14ms/step - loss: 0.1881 - acc: 0.9531 - contrast: 0.0690\n",
      "Epoch 46/60\n",
      "266/266 [==============================] - 4s 14ms/step - loss: 0.1940 - acc: 0.9471 - contrast: 0.0705\n",
      "Epoch 47/60\n",
      "266/266 [==============================] - 4s 14ms/step - loss: 0.1873 - acc: 0.9498 - contrast: 0.0695\n",
      "Epoch 48/60\n",
      "266/266 [==============================] - 4s 14ms/step - loss: 0.1777 - acc: 0.9519 - contrast: 0.0702\n",
      "Epoch 49/60\n",
      "266/266 [==============================] - 4s 14ms/step - loss: 0.1937 - acc: 0.9504 - contrast: 0.0672\n",
      "Epoch 50/60\n",
      "266/266 [==============================] - 4s 14ms/step - loss: 0.1768 - acc: 0.9560 - contrast: 0.0606\n",
      "Epoch 51/60\n",
      "266/266 [==============================] - 4s 14ms/step - loss: 0.1658 - acc: 0.9571 - contrast: 0.0688\n",
      "Epoch 52/60\n",
      "266/266 [==============================] - 4s 14ms/step - loss: 0.1595 - acc: 0.9598 - contrast: 0.0617\n",
      "Epoch 53/60\n",
      "266/266 [==============================] - 4s 14ms/step - loss: 0.1546 - acc: 0.9598 - contrast: 0.0625\n",
      "Epoch 54/60\n",
      "266/266 [==============================] - 4s 14ms/step - loss: 0.1849 - acc: 0.9528 - contrast: 0.0726\n",
      "Epoch 55/60\n",
      "266/266 [==============================] - 4s 14ms/step - loss: 0.1486 - acc: 0.9605 - contrast: 0.0615\n",
      "Epoch 56/60\n",
      "266/266 [==============================] - 4s 14ms/step - loss: 0.1581 - acc: 0.9592 - contrast: 0.0656\n",
      "Epoch 57/60\n",
      "266/266 [==============================] - 4s 14ms/step - loss: 0.1435 - acc: 0.9604 - contrast: 0.0616\n",
      "Epoch 58/60\n",
      "266/266 [==============================] - 4s 14ms/step - loss: 0.1383 - acc: 0.9639 - contrast: 0.0566\n",
      "Epoch 59/60\n",
      "266/266 [==============================] - 4s 14ms/step - loss: 0.1393 - acc: 0.9619 - contrast: 0.0657\n",
      "Epoch 60/60\n",
      "266/266 [==============================] - 4s 14ms/step - loss: 0.1382 - acc: 0.9652 - contrast: 0.0567\n",
      "1/1 [==============================] - 0s 261ms/step - loss: 0.0468 - acc: 0.9915\n"
     ]
    },
    {
     "data": {
      "text/plain": "0.04681152105331421"
     },
     "execution_count": 15,
     "metadata": {},
     "output_type": "execute_result"
    }
   ],
   "source": [
    "challenge_model_CCSA.fit(X=base_images, y=base_labels, Xt=challenge_images_t, yt=challenge_labels_t, epochs=60,verbose=1,batch_size = 32)\n",
    "challenge_model_CCSA.score(base_images, base_labels)"
   ],
   "metadata": {
    "collapsed": false,
    "pycharm": {
     "name": "#%%\n"
    }
   }
  },
  {
   "cell_type": "code",
   "execution_count": 16,
   "outputs": [
    {
     "name": "stdout",
     "output_type": "stream",
     "text": [
      "1/1 [==============================] - 0s 230ms/step - loss: 0.6546 - acc: 0.8504\n"
     ]
    },
    {
     "data": {
      "text/plain": "0.6545549631118774"
     },
     "execution_count": 16,
     "metadata": {},
     "output_type": "execute_result"
    }
   ],
   "source": [
    "challenge_images,challenge_labels = get_img_label_noreshape('challenge', 'all', num_classes=34)\n",
    "challenge_model_CCSA.score(challenge_images, challenge_labels)"
   ],
   "metadata": {
    "collapsed": false,
    "pycharm": {
     "name": "#%%\n"
    }
   }
  },
  {
   "cell_type": "code",
   "execution_count": 17,
   "outputs": [],
   "source": [
    "challenge_model_CCSA.save_weights(save_check_pt+ '/challenge')"
   ],
   "metadata": {
    "collapsed": false,
    "pycharm": {
     "name": "#%%\n"
    }
   }
  },
  {
   "cell_type": "markdown",
   "source": [
    "This is db"
   ],
   "metadata": {
    "collapsed": false,
    "pycharm": {
     "name": "#%% md\n"
    }
   }
  },
  {
   "cell_type": "code",
   "execution_count": 18,
   "outputs": [],
   "source": [
    "db_images_t,db_labels_t = get_img_label_noreshape('db', 'train', num_classes=34)\n",
    "db_model_CCSA = CCSA(encoder=get_encoder(), task=get_task(), Xt=db_images_t, yt=db_labels_t, optimizer=Adam(0.001), loss='CategoricalCrossentropy', metrics=[\"acc\"],random_state=0)"
   ],
   "metadata": {
    "collapsed": false,
    "pycharm": {
     "name": "#%%\n"
    }
   }
  },
  {
   "cell_type": "code",
   "execution_count": 19,
   "outputs": [
    {
     "name": "stdout",
     "output_type": "stream",
     "text": [
      "Epoch 1/60\n",
      "269/269 [==============================] - 5s 15ms/step - loss: 3.1816 - acc: 0.2513 - contrast: 159.0702\n",
      "Epoch 2/60\n",
      "269/269 [==============================] - 4s 14ms/step - loss: 2.5484 - acc: 0.3470 - contrast: 0.4933\n",
      "Epoch 3/60\n",
      "269/269 [==============================] - 4s 14ms/step - loss: 2.0519 - acc: 0.4542 - contrast: 0.4156\n",
      "Epoch 4/60\n",
      "269/269 [==============================] - 4s 14ms/step - loss: 1.6959 - acc: 0.5455 - contrast: 0.3781\n",
      "Epoch 5/60\n",
      "269/269 [==============================] - 4s 14ms/step - loss: 1.4721 - acc: 0.6018 - contrast: 0.3506\n",
      "Epoch 6/60\n",
      "269/269 [==============================] - 4s 15ms/step - loss: 1.3405 - acc: 0.6383 - contrast: 0.3279\n",
      "Epoch 7/60\n",
      "269/269 [==============================] - 4s 14ms/step - loss: 1.2566 - acc: 0.6572 - contrast: 0.2995\n",
      "Epoch 8/60\n",
      "269/269 [==============================] - 4s 14ms/step - loss: 1.1401 - acc: 0.6845 - contrast: 0.2768\n",
      "Epoch 9/60\n",
      "269/269 [==============================] - 4s 14ms/step - loss: 1.0521 - acc: 0.7066 - contrast: 0.2622\n",
      "Epoch 10/60\n",
      "269/269 [==============================] - 4s 14ms/step - loss: 1.0081 - acc: 0.7165 - contrast: 0.2585\n",
      "Epoch 11/60\n",
      "269/269 [==============================] - 4s 14ms/step - loss: 0.9048 - acc: 0.7458 - contrast: 0.2422\n",
      "Epoch 12/60\n",
      "269/269 [==============================] - 4s 14ms/step - loss: 0.8554 - acc: 0.7529 - contrast: 0.2322\n",
      "Epoch 13/60\n",
      "269/269 [==============================] - 4s 14ms/step - loss: 0.8398 - acc: 0.7585 - contrast: 0.2160\n",
      "Epoch 14/60\n",
      "269/269 [==============================] - 4s 14ms/step - loss: 0.8053 - acc: 0.7696 - contrast: 0.2150\n",
      "Epoch 15/60\n",
      "269/269 [==============================] - 4s 14ms/step - loss: 0.7737 - acc: 0.7758 - contrast: 0.1989\n",
      "Epoch 16/60\n",
      "269/269 [==============================] - 4s 14ms/step - loss: 0.7390 - acc: 0.7874 - contrast: 0.1945\n",
      "Epoch 17/60\n",
      "269/269 [==============================] - 4s 14ms/step - loss: 0.7060 - acc: 0.7972 - contrast: 0.1873\n",
      "Epoch 18/60\n",
      "269/269 [==============================] - 4s 14ms/step - loss: 0.6538 - acc: 0.8119 - contrast: 0.1798\n",
      "Epoch 19/60\n",
      "269/269 [==============================] - 4s 14ms/step - loss: 0.6409 - acc: 0.8126 - contrast: 0.1750\n",
      "Epoch 20/60\n",
      "269/269 [==============================] - 4s 14ms/step - loss: 0.6273 - acc: 0.8162 - contrast: 0.1707\n",
      "Epoch 21/60\n",
      "269/269 [==============================] - 4s 14ms/step - loss: 0.5892 - acc: 0.8285 - contrast: 0.1618\n",
      "Epoch 22/60\n",
      "269/269 [==============================] - 4s 14ms/step - loss: 0.5765 - acc: 0.8310 - contrast: 0.1594\n",
      "Epoch 23/60\n",
      "269/269 [==============================] - 4s 14ms/step - loss: 0.5376 - acc: 0.8418 - contrast: 0.1604\n",
      "Epoch 24/60\n",
      "269/269 [==============================] - 4s 14ms/step - loss: 0.5457 - acc: 0.8391 - contrast: 0.1565\n",
      "Epoch 25/60\n",
      "269/269 [==============================] - 4s 14ms/step - loss: 0.5005 - acc: 0.8534 - contrast: 0.1451\n",
      "Epoch 26/60\n",
      "269/269 [==============================] - 4s 15ms/step - loss: 0.4714 - acc: 0.8595 - contrast: 0.1403\n",
      "Epoch 27/60\n",
      "269/269 [==============================] - 4s 14ms/step - loss: 0.4556 - acc: 0.8661 - contrast: 0.1462\n",
      "Epoch 28/60\n",
      "269/269 [==============================] - 4s 14ms/step - loss: 0.4476 - acc: 0.8687 - contrast: 0.1487\n",
      "Epoch 29/60\n",
      "269/269 [==============================] - 4s 14ms/step - loss: 0.4376 - acc: 0.8734 - contrast: 0.1485\n",
      "Epoch 30/60\n",
      "269/269 [==============================] - 4s 14ms/step - loss: 0.4273 - acc: 0.8780 - contrast: 0.1423\n",
      "Epoch 31/60\n",
      "269/269 [==============================] - 4s 14ms/step - loss: 0.4017 - acc: 0.8881 - contrast: 0.1375\n",
      "Epoch 32/60\n",
      "269/269 [==============================] - 4s 14ms/step - loss: 0.3856 - acc: 0.8915 - contrast: 0.1440\n",
      "Epoch 33/60\n",
      "269/269 [==============================] - 4s 14ms/step - loss: 0.3460 - acc: 0.9003 - contrast: 0.1243\n",
      "Epoch 34/60\n",
      "269/269 [==============================] - 4s 14ms/step - loss: 0.3050 - acc: 0.9111 - contrast: 0.1187\n",
      "Epoch 35/60\n",
      "269/269 [==============================] - 4s 14ms/step - loss: 0.3139 - acc: 0.9100 - contrast: 0.1238\n",
      "Epoch 36/60\n",
      "269/269 [==============================] - 4s 14ms/step - loss: 0.2959 - acc: 0.9164 - contrast: 0.1180\n",
      "Epoch 37/60\n",
      "269/269 [==============================] - 4s 14ms/step - loss: 0.2622 - acc: 0.9234 - contrast: 0.1077\n",
      "Epoch 38/60\n",
      "269/269 [==============================] - 4s 14ms/step - loss: 0.2626 - acc: 0.9254 - contrast: 0.1060\n",
      "Epoch 39/60\n",
      "269/269 [==============================] - 4s 14ms/step - loss: 0.2631 - acc: 0.9237 - contrast: 0.1047\n",
      "Epoch 40/60\n",
      "269/269 [==============================] - 4s 15ms/step - loss: 0.2715 - acc: 0.9219 - contrast: 0.1051\n",
      "Epoch 41/60\n",
      "269/269 [==============================] - 4s 14ms/step - loss: 0.2512 - acc: 0.9285 - contrast: 0.1012\n",
      "Epoch 42/60\n",
      "269/269 [==============================] - 4s 14ms/step - loss: 0.2419 - acc: 0.9311 - contrast: 0.1033\n",
      "Epoch 43/60\n",
      "269/269 [==============================] - 4s 14ms/step - loss: 0.2232 - acc: 0.9366 - contrast: 0.0970\n",
      "Epoch 44/60\n",
      "269/269 [==============================] - 4s 14ms/step - loss: 0.1967 - acc: 0.9452 - contrast: 0.0885\n",
      "Epoch 45/60\n",
      "269/269 [==============================] - 4s 14ms/step - loss: 0.1960 - acc: 0.9486 - contrast: 0.0862\n",
      "Epoch 46/60\n",
      "269/269 [==============================] - 4s 14ms/step - loss: 0.2176 - acc: 0.9417 - contrast: 0.0928\n",
      "Epoch 47/60\n",
      "269/269 [==============================] - 4s 14ms/step - loss: 0.1682 - acc: 0.9542 - contrast: 0.0790\n",
      "Epoch 48/60\n",
      "269/269 [==============================] - 4s 14ms/step - loss: 0.1964 - acc: 0.9478 - contrast: 0.0825\n",
      "Epoch 49/60\n",
      "269/269 [==============================] - 4s 14ms/step - loss: 0.1766 - acc: 0.9538 - contrast: 0.0841\n",
      "Epoch 50/60\n",
      "269/269 [==============================] - 4s 14ms/step - loss: 0.1932 - acc: 0.9474 - contrast: 0.0835\n",
      "Epoch 51/60\n",
      "269/269 [==============================] - 4s 14ms/step - loss: 0.1539 - acc: 0.9597 - contrast: 0.0775\n",
      "Epoch 52/60\n",
      "269/269 [==============================] - 4s 15ms/step - loss: 0.1385 - acc: 0.9644 - contrast: 0.0738\n",
      "Epoch 53/60\n",
      "269/269 [==============================] - 4s 14ms/step - loss: 0.1377 - acc: 0.9641 - contrast: 0.0693\n",
      "Epoch 54/60\n",
      "269/269 [==============================] - 4s 15ms/step - loss: 0.1775 - acc: 0.9535 - contrast: 0.0788\n",
      "Epoch 55/60\n",
      "269/269 [==============================] - 4s 14ms/step - loss: 0.1483 - acc: 0.9627 - contrast: 0.0744\n",
      "Epoch 56/60\n",
      "269/269 [==============================] - 4s 14ms/step - loss: 0.1234 - acc: 0.9692 - contrast: 0.0657\n",
      "Epoch 57/60\n",
      "269/269 [==============================] - 4s 14ms/step - loss: 0.1731 - acc: 0.9563 - contrast: 0.0806\n",
      "Epoch 58/60\n",
      "269/269 [==============================] - 4s 14ms/step - loss: 0.1461 - acc: 0.9646 - contrast: 0.0736\n",
      "Epoch 59/60\n",
      "269/269 [==============================] - 4s 15ms/step - loss: 0.1254 - acc: 0.9703 - contrast: 0.0684\n",
      "Epoch 60/60\n",
      "269/269 [==============================] - 4s 15ms/step - loss: 0.1111 - acc: 0.9700 - contrast: 0.0601\n",
      "WARNING:tensorflow:5 out of the last 5 calls to <function Model.make_test_function.<locals>.test_function at 0x000001D4D1CBFAF0> triggered tf.function retracing. Tracing is expensive and the excessive number of tracings could be due to (1) creating @tf.function repeatedly in a loop, (2) passing tensors with different shapes, (3) passing Python objects instead of tensors. For (1), please define your @tf.function outside of the loop. For (2), @tf.function has experimental_relax_shapes=True option that relaxes argument shapes that can avoid unnecessary retracing. For (3), please refer to https://www.tensorflow.org/guide/function#controlling_retracing and https://www.tensorflow.org/api_docs/python/tf/function for  more details.\n",
      "1/1 [==============================] - 0s 272ms/step - loss: 0.0401 - acc: 0.9921\n"
     ]
    },
    {
     "data": {
      "text/plain": "0.04010641947388649"
     },
     "execution_count": 19,
     "metadata": {},
     "output_type": "execute_result"
    }
   ],
   "source": [
    "db_model_CCSA.fit(X=base_images, y=base_labels, Xt=db_images_t, yt=db_labels_t, epochs=60,verbose=1,batch_size = 32)\n",
    "db_model_CCSA.score(base_images, base_labels)"
   ],
   "metadata": {
    "collapsed": false,
    "pycharm": {
     "name": "#%%\n"
    }
   }
  },
  {
   "cell_type": "code",
   "execution_count": 20,
   "outputs": [
    {
     "name": "stdout",
     "output_type": "stream",
     "text": [
      "WARNING:tensorflow:6 out of the last 6 calls to <function Model.make_test_function.<locals>.test_function at 0x000001D4BEF30700> triggered tf.function retracing. Tracing is expensive and the excessive number of tracings could be due to (1) creating @tf.function repeatedly in a loop, (2) passing tensors with different shapes, (3) passing Python objects instead of tensors. For (1), please define your @tf.function outside of the loop. For (2), @tf.function has experimental_relax_shapes=True option that relaxes argument shapes that can avoid unnecessary retracing. For (3), please refer to https://www.tensorflow.org/guide/function#controlling_retracing and https://www.tensorflow.org/api_docs/python/tf/function for  more details.\n",
      "1/1 [==============================] - 1s 524ms/step - loss: 0.5229 - acc: 0.8882\n"
     ]
    },
    {
     "data": {
      "text/plain": "0.5229292511940002"
     },
     "execution_count": 20,
     "metadata": {},
     "output_type": "execute_result"
    }
   ],
   "source": [
    "db_images,db_labels = get_img_label_noreshape('db', 'all', num_classes=34)\n",
    "db_model_CCSA.score(db_images, db_labels)"
   ],
   "metadata": {
    "collapsed": false,
    "pycharm": {
     "name": "#%%\n"
    }
   }
  },
  {
   "cell_type": "code",
   "execution_count": 21,
   "outputs": [],
   "source": [
    "db_model_CCSA.save_weights(save_check_pt+ '/db')"
   ],
   "metadata": {
    "collapsed": false,
    "pycharm": {
     "name": "#%%\n"
    }
   }
  },
  {
   "cell_type": "markdown",
   "source": [
    "This is fn"
   ],
   "metadata": {
    "collapsed": false,
    "pycharm": {
     "name": "#%% md\n"
    }
   }
  },
  {
   "cell_type": "code",
   "execution_count": 22,
   "outputs": [],
   "source": [
    "fn_images_t,fn_labels_t = get_img_label_noreshape('fn', 'train', num_classes=34)\n",
    "fn_model_CCSA = CCSA(encoder=get_encoder(), task=get_task(), Xt=fn_images_t, yt=fn_labels_t, optimizer=Adam(0.001), loss='CategoricalCrossentropy', metrics=[\"acc\"],random_state=0)"
   ],
   "metadata": {
    "collapsed": false,
    "pycharm": {
     "name": "#%%\n"
    }
   }
  },
  {
   "cell_type": "code",
   "execution_count": 23,
   "outputs": [
    {
     "name": "stdout",
     "output_type": "stream",
     "text": [
      "Epoch 1/60\n",
      "264/264 [==============================] - 5s 14ms/step - loss: 2.9154 - acc: 0.3034 - contrast: 157.5751\n",
      "Epoch 2/60\n",
      "264/264 [==============================] - 4s 14ms/step - loss: 1.8762 - acc: 0.4947 - contrast: 0.2947\n",
      "Epoch 3/60\n",
      "264/264 [==============================] - 4s 14ms/step - loss: 1.4566 - acc: 0.5922 - contrast: 0.2477\n",
      "Epoch 4/60\n",
      "264/264 [==============================] - 4s 14ms/step - loss: 1.1884 - acc: 0.6615 - contrast: 0.2305\n",
      "Epoch 5/60\n",
      "264/264 [==============================] - 4s 14ms/step - loss: 1.0393 - acc: 0.7143 - contrast: 0.2146\n",
      "Epoch 6/60\n",
      "264/264 [==============================] - 4s 14ms/step - loss: 0.9057 - acc: 0.7549 - contrast: 0.2021\n",
      "Epoch 7/60\n",
      "264/264 [==============================] - 4s 14ms/step - loss: 0.8117 - acc: 0.7836 - contrast: 0.1882\n",
      "Epoch 8/60\n",
      "264/264 [==============================] - 4s 14ms/step - loss: 0.7171 - acc: 0.8004 - contrast: 0.1723\n",
      "Epoch 9/60\n",
      "264/264 [==============================] - 4s 14ms/step - loss: 0.6912 - acc: 0.8066 - contrast: 0.1663\n",
      "Epoch 10/60\n",
      "264/264 [==============================] - 4s 14ms/step - loss: 0.6477 - acc: 0.8181 - contrast: 0.1490\n",
      "Epoch 11/60\n",
      "264/264 [==============================] - 4s 14ms/step - loss: 0.6052 - acc: 0.8332 - contrast: 0.1407\n",
      "Epoch 12/60\n",
      "264/264 [==============================] - 4s 15ms/step - loss: 0.5599 - acc: 0.8426 - contrast: 0.1355\n",
      "Epoch 13/60\n",
      "264/264 [==============================] - 4s 14ms/step - loss: 0.5581 - acc: 0.8402 - contrast: 0.1334\n",
      "Epoch 14/60\n",
      "264/264 [==============================] - 4s 15ms/step - loss: 0.5342 - acc: 0.8531 - contrast: 0.1330\n",
      "Epoch 15/60\n",
      "264/264 [==============================] - 4s 14ms/step - loss: 0.5103 - acc: 0.8562 - contrast: 0.1258\n",
      "Epoch 16/60\n",
      "264/264 [==============================] - 4s 14ms/step - loss: 0.4848 - acc: 0.8623 - contrast: 0.1258\n",
      "Epoch 17/60\n",
      "264/264 [==============================] - 4s 14ms/step - loss: 0.4581 - acc: 0.8719 - contrast: 0.1183\n",
      "Epoch 18/60\n",
      "264/264 [==============================] - 4s 15ms/step - loss: 0.4422 - acc: 0.8730 - contrast: 0.1175\n",
      "Epoch 19/60\n",
      "264/264 [==============================] - 4s 14ms/step - loss: 0.4391 - acc: 0.8755 - contrast: 0.1082\n",
      "Epoch 20/60\n",
      "264/264 [==============================] - 4s 14ms/step - loss: 0.4557 - acc: 0.8769 - contrast: 0.1155\n",
      "Epoch 21/60\n",
      "264/264 [==============================] - 4s 14ms/step - loss: 0.4199 - acc: 0.8814 - contrast: 0.1045\n",
      "Epoch 22/60\n",
      "264/264 [==============================] - 4s 15ms/step - loss: 0.4167 - acc: 0.8857 - contrast: 0.1087\n",
      "Epoch 23/60\n",
      "264/264 [==============================] - 4s 14ms/step - loss: 0.4020 - acc: 0.8867 - contrast: 0.1011\n",
      "Epoch 24/60\n",
      "264/264 [==============================] - 4s 14ms/step - loss: 0.3523 - acc: 0.9007 - contrast: 0.0977\n",
      "Epoch 25/60\n",
      "264/264 [==============================] - 4s 15ms/step - loss: 0.3669 - acc: 0.8933 - contrast: 0.0968\n",
      "Epoch 26/60\n",
      "264/264 [==============================] - 4s 15ms/step - loss: 0.3491 - acc: 0.9013 - contrast: 0.0947\n",
      "Epoch 27/60\n",
      "264/264 [==============================] - 4s 14ms/step - loss: 0.3489 - acc: 0.8991 - contrast: 0.0926\n",
      "Epoch 28/60\n",
      "264/264 [==============================] - 4s 14ms/step - loss: 0.3226 - acc: 0.9084 - contrast: 0.0861\n",
      "Epoch 29/60\n",
      "264/264 [==============================] - 4s 15ms/step - loss: 0.3398 - acc: 0.9076 - contrast: 0.0915\n",
      "Epoch 30/60\n",
      "264/264 [==============================] - 4s 14ms/step - loss: 0.3220 - acc: 0.9097 - contrast: 0.0886\n",
      "Epoch 31/60\n",
      "264/264 [==============================] - 4s 14ms/step - loss: 0.2758 - acc: 0.9244 - contrast: 0.0816\n",
      "Epoch 32/60\n",
      "264/264 [==============================] - 4s 15ms/step - loss: 0.2681 - acc: 0.9235 - contrast: 0.0769\n",
      "Epoch 33/60\n",
      "264/264 [==============================] - 4s 14ms/step - loss: 0.3027 - acc: 0.9160 - contrast: 0.0896\n",
      "Epoch 34/60\n",
      "264/264 [==============================] - 4s 14ms/step - loss: 0.2670 - acc: 0.9264 - contrast: 0.0774\n",
      "Epoch 35/60\n",
      "264/264 [==============================] - 4s 14ms/step - loss: 0.2536 - acc: 0.9302 - contrast: 0.0789\n",
      "Epoch 36/60\n",
      "264/264 [==============================] - 4s 14ms/step - loss: 0.2268 - acc: 0.9371 - contrast: 0.0705\n",
      "Epoch 37/60\n",
      "264/264 [==============================] - 4s 14ms/step - loss: 0.2399 - acc: 0.9363 - contrast: 0.0745\n",
      "Epoch 38/60\n",
      "264/264 [==============================] - 4s 14ms/step - loss: 0.2168 - acc: 0.9442 - contrast: 0.0745\n",
      "Epoch 39/60\n",
      "264/264 [==============================] - 4s 15ms/step - loss: 0.2303 - acc: 0.9357 - contrast: 0.0761\n",
      "Epoch 40/60\n",
      "264/264 [==============================] - 4s 14ms/step - loss: 0.2141 - acc: 0.9433 - contrast: 0.0702\n",
      "Epoch 41/60\n",
      "264/264 [==============================] - 4s 14ms/step - loss: 0.1875 - acc: 0.9498 - contrast: 0.0630\n",
      "Epoch 42/60\n",
      "264/264 [==============================] - 4s 14ms/step - loss: 0.1768 - acc: 0.9523 - contrast: 0.0611\n",
      "Epoch 43/60\n",
      "264/264 [==============================] - 4s 14ms/step - loss: 0.1781 - acc: 0.9536 - contrast: 0.0604\n",
      "Epoch 44/60\n",
      "264/264 [==============================] - 4s 14ms/step - loss: 0.1774 - acc: 0.9536 - contrast: 0.0629\n",
      "Epoch 45/60\n",
      "264/264 [==============================] - 4s 14ms/step - loss: 0.1629 - acc: 0.9605 - contrast: 0.0634\n",
      "Epoch 46/60\n",
      "264/264 [==============================] - 4s 14ms/step - loss: 0.1649 - acc: 0.9560 - contrast: 0.0608\n",
      "Epoch 47/60\n",
      "264/264 [==============================] - 4s 14ms/step - loss: 0.1434 - acc: 0.9646 - contrast: 0.0574\n",
      "Epoch 48/60\n",
      "264/264 [==============================] - 4s 14ms/step - loss: 0.1458 - acc: 0.9656 - contrast: 0.0512\n",
      "Epoch 49/60\n",
      "264/264 [==============================] - 4s 14ms/step - loss: 0.1637 - acc: 0.9583 - contrast: 0.0557\n",
      "Epoch 50/60\n",
      "264/264 [==============================] - 4s 15ms/step - loss: 0.1516 - acc: 0.9608 - contrast: 0.0518\n",
      "Epoch 51/60\n",
      "264/264 [==============================] - 4s 15ms/step - loss: 0.1557 - acc: 0.9616 - contrast: 0.0566\n",
      "Epoch 52/60\n",
      "264/264 [==============================] - 4s 15ms/step - loss: 0.1357 - acc: 0.9663 - contrast: 0.0506\n",
      "Epoch 53/60\n",
      "264/264 [==============================] - 4s 14ms/step - loss: 0.1475 - acc: 0.9626 - contrast: 0.0560\n",
      "Epoch 54/60\n",
      "264/264 [==============================] - 4s 14ms/step - loss: 0.1315 - acc: 0.9657 - contrast: 0.0490\n",
      "Epoch 55/60\n",
      "264/264 [==============================] - 4s 14ms/step - loss: 0.1241 - acc: 0.9690 - contrast: 0.0535\n",
      "Epoch 56/60\n",
      "264/264 [==============================] - 4s 14ms/step - loss: 0.1063 - acc: 0.9736 - contrast: 0.0430\n",
      "Epoch 57/60\n",
      "264/264 [==============================] - 4s 14ms/step - loss: 0.1014 - acc: 0.9762 - contrast: 0.0399\n",
      "Epoch 58/60\n",
      "264/264 [==============================] - 4s 14ms/step - loss: 0.1247 - acc: 0.9691 - contrast: 0.0457\n",
      "Epoch 59/60\n",
      "264/264 [==============================] - 4s 14ms/step - loss: 0.1151 - acc: 0.9719 - contrast: 0.0523\n",
      "Epoch 60/60\n",
      "264/264 [==============================] - 4s 14ms/step - loss: 0.1291 - acc: 0.9672 - contrast: 0.0481\n",
      "1/1 [==============================] - 0s 258ms/step - loss: 0.0589 - acc: 0.9846\n"
     ]
    },
    {
     "data": {
      "text/plain": "0.05891306698322296"
     },
     "execution_count": 23,
     "metadata": {},
     "output_type": "execute_result"
    }
   ],
   "source": [
    "fn_model_CCSA.fit(X=base_images, y=base_labels, epochs=60,verbose=1,batch_size = 32) #, Xt=fn_images_t, yt=fn_labels_t\n",
    "fn_model_CCSA.score(base_images, base_labels)"
   ],
   "metadata": {
    "collapsed": false,
    "pycharm": {
     "name": "#%%\n"
    }
   }
  },
  {
   "cell_type": "code",
   "execution_count": 24,
   "outputs": [
    {
     "name": "stdout",
     "output_type": "stream",
     "text": [
      "1/1 [==============================] - 0s 280ms/step - loss: 0.1205 - acc: 0.9794\n"
     ]
    },
    {
     "data": {
      "text/plain": "0.12048079073429108"
     },
     "execution_count": 24,
     "metadata": {},
     "output_type": "execute_result"
    }
   ],
   "source": [
    "fn_images,fn_labels = get_img_label_noreshape('fn', 'all', num_classes=34)\n",
    "fn_model_CCSA.score(fn_images, fn_labels)"
   ],
   "metadata": {
    "collapsed": false,
    "pycharm": {
     "name": "#%%\n"
    }
   }
  },
  {
   "cell_type": "code",
   "execution_count": 25,
   "outputs": [
    {
     "name": "stdout",
     "output_type": "stream",
     "text": [
      "1/1 [==============================] - 0s 243ms/step - loss: 0.0589 - acc: 0.9846\n"
     ]
    },
    {
     "data": {
      "text/plain": "0.05891306698322296"
     },
     "execution_count": 25,
     "metadata": {},
     "output_type": "execute_result"
    }
   ],
   "source": [
    "fn_model_CCSA.score(base_images, base_labels)"
   ],
   "metadata": {
    "collapsed": false,
    "pycharm": {
     "name": "#%%\n"
    }
   }
  },
  {
   "cell_type": "code",
   "execution_count": 26,
   "outputs": [],
   "source": [
    "fn_model_CCSA.save_weights(save_check_pt+ '/fn')"
   ],
   "metadata": {
    "collapsed": false,
    "pycharm": {
     "name": "#%%\n"
    }
   }
  },
  {
   "cell_type": "code",
   "execution_count": null,
   "outputs": [],
   "source": [],
   "metadata": {
    "collapsed": false,
    "pycharm": {
     "name": "#%%\n"
    }
   }
  }
 ],
 "metadata": {
  "kernelspec": {
   "display_name": "Python 3",
   "language": "python",
   "name": "python3"
  },
  "language_info": {
   "codemirror_mode": {
    "name": "ipython",
    "version": 2
   },
   "file_extension": ".py",
   "mimetype": "text/x-python",
   "name": "python",
   "nbconvert_exporter": "python",
   "pygments_lexer": "ipython2",
   "version": "2.7.6"
  }
 },
 "nbformat": 4,
 "nbformat_minor": 0
}