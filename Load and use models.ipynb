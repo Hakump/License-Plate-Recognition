{
 "cells": [
  {
   "cell_type": "code",
   "execution_count": 1,
   "id": "5b7f4991",
   "metadata": {},
   "outputs": [],
   "source": [
    "import pickle\n",
    "import numpy as np\n",
    "\n",
    "with open('datasets/datasets.pkl', 'rb') as f:\n",
    "    datasets = pickle.load(f)"
   ]
  },
  {
   "cell_type": "code",
   "execution_count": 3,
   "id": "4270e0af",
   "metadata": {
    "scrolled": true
   },
   "outputs": [],
   "source": [
    "label2index = {k: v for v, k in enumerate(list(datasets[\"base\"].keys()))}\n",
    "# label2index"
   ]
  },
  {
   "cell_type": "code",
   "execution_count": 4,
   "id": "9334fea9",
   "metadata": {},
   "outputs": [],
   "source": [
    "def from_dict_to_XY(adict, one_hot=False):\n",
    "    num_class = len(label2index.keys())\n",
    "    Y = []\n",
    "    X = []\n",
    "    for key in adict:\n",
    "        if one_hot:\n",
    "            label = np.zeros([len(adict[key]), num_class])\n",
    "            label[:, label2index[key]] = 1.0\n",
    "        else:\n",
    "            label = np.ones(len(adict[key]))*label2index[key]\n",
    "        Y.append(label)\n",
    "        X.append(adict[key])\n",
    "    X = np.vstack(X)\n",
    "    if one_hot:\n",
    "        Y = np.vstack(Y)\n",
    "    else:\n",
    "        Y = np.concatenate(Y)\n",
    "    return X, Y"
   ]
  },
  {
   "cell_type": "code",
   "execution_count": 5,
   "id": "4f5b9867",
   "metadata": {},
   "outputs": [
    {
     "data": {
      "text/plain": [
       "['base', 'challenge', 'db', 'fn', 'weather']"
      ]
     },
     "execution_count": 5,
     "metadata": {},
     "output_type": "execute_result"
    }
   ],
   "source": [
    "dataset_names = list(datasets.keys())\n",
    "dataset_names"
   ]
  },
  {
   "cell_type": "code",
   "execution_count": 6,
   "id": "35cf8f80",
   "metadata": {},
   "outputs": [],
   "source": [
    "# load the model\n",
    "with open('models/lgr.pkl', 'rb') as f:\n",
    "    model = pickle.load(f)"
   ]
  },
  {
   "cell_type": "code",
   "execution_count": 7,
   "id": "0fd7d298",
   "metadata": {},
   "outputs": [
    {
     "name": "stdout",
     "output_type": "stream",
     "text": [
      "Processing challenge\n",
      "Processing db\n",
      "Processing fn\n",
      "Processing weather\n"
     ]
    }
   ],
   "source": [
    "accs = {}\n",
    "for each_name in dataset_names[1:]:\n",
    "    print(\"Processing\", each_name)\n",
    "    X, Y = from_dict_to_XY(datasets[each_name])\n",
    "    accs[each_name] = model.score(X, Y)"
   ]
  },
  {
   "cell_type": "code",
   "execution_count": 8,
   "id": "d3581b57",
   "metadata": {},
   "outputs": [
    {
     "data": {
      "text/plain": [
       "{'challenge': 0.7992700729927007,\n",
       " 'db': 0.7517388978063135,\n",
       " 'fn': 0.9176954732510288,\n",
       " 'weather': 0.8764428121720882}"
      ]
     },
     "execution_count": 8,
     "metadata": {},
     "output_type": "execute_result"
    }
   ],
   "source": [
    "accs"
   ]
  },
  {
   "cell_type": "code",
   "execution_count": null,
   "id": "e2e50f04",
   "metadata": {},
   "outputs": [],
   "source": []
  }
 ],
 "metadata": {
  "kernelspec": {
   "display_name": "Python [conda env:.conda-ML] *",
   "language": "python",
   "name": "conda-env-.conda-ML-py"
  },
  "language_info": {
   "codemirror_mode": {
    "name": "ipython",
    "version": 3
   },
   "file_extension": ".py",
   "mimetype": "text/x-python",
   "name": "python",
   "nbconvert_exporter": "python",
   "pygments_lexer": "ipython3",
   "version": "3.8.10"
  }
 },
 "nbformat": 4,
 "nbformat_minor": 5
}
