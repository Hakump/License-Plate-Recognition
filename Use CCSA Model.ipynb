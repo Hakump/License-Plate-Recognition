{
 "cells": [
  {
   "cell_type": "code",
   "execution_count": 5,
   "metadata": {
    "collapsed": true
   },
   "outputs": [],
   "source": [
    "import  os, glob\n",
    "import  random, csv\n",
    "import tensorflow as tf\n",
    "import numpy as np\n",
    "from matplotlib import pyplot as plt\n",
    "import pickle\n",
    "from PIL import Image\n",
    "import adapt\n",
    "from adapt.feature_based import DANN, CORAL, DeepCORAL, CCSA\n",
    "from tensorflow import keras\n",
    "from keras import layers\n",
    "from tensorflow.keras import Sequential\n",
    "from tensorflow.keras.layers import Input, Dense, Reshape, Dropout, Convolution2D, MaxPooling2D, Flatten\n",
    "from tensorflow.keras.optimizers import Adam\n",
    "from keras.utils.np_utils import to_categorical\n",
    "import warnings\n",
    "warnings.filterwarnings('ignore')\n",
    "warnings.simplefilter('ignore')\n",
    "img_h, img_w = 32,16"
   ]
  },
  {
   "cell_type": "code",
   "execution_count": 7,
   "outputs": [],
   "source": [
    "def get_encoder(input_shape=(32,16,3)):\n",
    "    model = Sequential()\n",
    "    model.add(Convolution2D(32,(3,3),activation='relu', padding='valid', input_shape=input_shape))\n",
    "    model.add(MaxPooling2D(pool_size=(2,2)))\n",
    "    model.add(Convolution2D(32,(3,3),activation='relu'))\n",
    "    model.add(MaxPooling2D(pool_size=(2,2)))\n",
    "    model.add(Dropout(0.25))\n",
    "    model.add(Flatten())\n",
    "    model.add(Dense(720, activation=\"relu\"))\n",
    "    model.add(Dense(168*3, activation=\"relu\"))\n",
    "    return model\n",
    "\n",
    "def get_task(input_shape=(168*3,)):\n",
    "    model = Sequential()\n",
    "    model.add(Dense(168*3, activation='relu',input_shape=input_shape))\n",
    "    model.add(Dropout(0.5))\n",
    "    model.add(Dense(34, activation=\"softmax\"))\n",
    "    return model\n",
    "\n",
    "def process_image(image):\n",
    "    img = image.convert('RGB')\n",
    "    img = img.resize([img_w, img_h],Image.ANTIALIAS)\n",
    "    return img"
   ],
   "metadata": {
    "collapsed": false,
    "pycharm": {
     "name": "#%%\n"
    }
   }
  },
  {
   "cell_type": "code",
   "execution_count": 12,
   "outputs": [],
   "source": [
    "save_CCSA = 'checkpoints_CCSA/'\n",
    "mapping = {0:'0', 1:'1', 2:'2', 3:'3', 4:'4', 5:'5', 6:'6', 7:'7', 8:'8', 9:'9', 10:'A', 11:'B', 12:'C', 13:'D', 14:'E', 15:'F', 16:'G', 17:'H', 18:'I', 19:'J', 20:'K', 21:'L', 22:'M', 23:'N', 24:'P', 25:'Q', 26:'R', 27:'S', 28:'T', 29:'U', 30:'V', 31:'W', 32:'X', 33:'Y', 34:'Z'}"
   ],
   "metadata": {
    "collapsed": false,
    "pycharm": {
     "name": "#%%\n"
    }
   }
  },
  {
   "cell_type": "code",
   "execution_count": 11,
   "outputs": [],
   "source": [
    "model_name = 'weather'"
   ],
   "metadata": {
    "collapsed": false,
    "pycharm": {
     "name": "#%%\n"
    }
   }
  },
  {
   "cell_type": "code",
   "execution_count": 16,
   "outputs": [
    {
     "name": "stdout",
     "output_type": "stream",
     "text": [
      "I\n"
     ]
    }
   ],
   "source": [
    "model = CCSA(encoder=get_encoder(), task=get_task(), optimizer=Adam(0.001), loss='CategoricalCrossentropy', metrics=[\"acc\"],random_state=0)\n",
    "xs=np.zeros((8446, 32, 16, 3))\n",
    "ys=np.zeros((8446, 34))\n",
    "xt=np.zeros((762, 32, 16, 3))\n",
    "yt=np.zeros((762, 34))\n",
    "model.fit(xs, ys,xt,yt, epochs=0,verbose=1,batch_size = 32)\n",
    "model.load_weights(save_CCSA + model_name)\n",
    "prediction = np.argmax(model.predict(np.zeros((1, 32, 16, 3))),axis=1)[0]\n",
    "print(mapping[18])"
   ],
   "metadata": {
    "collapsed": false,
    "pycharm": {
     "name": "#%%\n"
    }
   }
  },
  {
   "cell_type": "code",
   "execution_count": 25,
   "outputs": [],
   "source": [
    "def predict_model(size, name, img_input):\n",
    "    curr_name = save_CCSA + name\n",
    "    curr_xt=np.zeros((size, 32, 16, 3))\n",
    "    curr_yt=np.zeros((size, 34))\n",
    "    curr_model = CCSA(encoder=get_encoder(), task=get_task(), optimizer=Adam(0.001), loss='CategoricalCrossentropy', metrics=[\"acc\"],random_state=0)\n",
    "    curr_model.fit(xs, ys,curr_xt,curr_yt, epochs=0,verbose=1,batch_size = 32)\n",
    "    curr_model.load_weights(curr_name)\n",
    "    curr_prediction = np.argmax(model.predict(img_input))\n",
    "    return curr_prediction"
   ],
   "metadata": {
    "collapsed": false,
    "pycharm": {
     "name": "#%%\n"
    }
   }
  },
  {
   "cell_type": "code",
   "execution_count": 26,
   "outputs": [],
   "source": [
    "challenge_res = predict_model(109, 'challenge', np.zeros((1, 32, 16,3)))"
   ],
   "metadata": {
    "collapsed": false,
    "pycharm": {
     "name": "#%%\n"
    }
   }
  },
  {
   "cell_type": "code",
   "execution_count": 27,
   "outputs": [
    {
     "data": {
      "text/plain": "1"
     },
     "execution_count": 27,
     "metadata": {},
     "output_type": "execute_result"
    }
   ],
   "source": [
    "challenge_res"
   ],
   "metadata": {
    "collapsed": false,
    "pycharm": {
     "name": "#%%\n"
    }
   }
  },
  {
   "cell_type": "code",
   "execution_count": null,
   "outputs": [],
   "source": [],
   "metadata": {
    "collapsed": false,
    "pycharm": {
     "name": "#%%\n"
    }
   }
  }
 ],
 "metadata": {
  "kernelspec": {
   "display_name": "Python 3",
   "language": "python",
   "name": "python3"
  },
  "language_info": {
   "codemirror_mode": {
    "name": "ipython",
    "version": 2
   },
   "file_extension": ".py",
   "mimetype": "text/x-python",
   "name": "python",
   "nbconvert_exporter": "python",
   "pygments_lexer": "ipython2",
   "version": "2.7.6"
  }
 },
 "nbformat": 4,
 "nbformat_minor": 0
}