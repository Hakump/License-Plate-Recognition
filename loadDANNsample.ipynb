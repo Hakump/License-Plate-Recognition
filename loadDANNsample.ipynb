{
 "cells": [
  {
   "cell_type": "code",
   "execution_count": 1,
   "id": "e80cacd1",
   "metadata": {},
   "outputs": [
    {
     "name": "stdout",
     "output_type": "stream",
     "text": [
      "Will load models from check point dir: ./checkpoints_DANN\n"
     ]
    }
   ],
   "source": [
    "import numpy as np\n",
    "import adapt\n",
    "from adapt.feature_based import DANN\n",
    "from tensorflow import keras\n",
    "from keras import layers\n",
    "from tensorflow.keras import Sequential\n",
    "from tensorflow.keras.layers import Input, Dense, Reshape,Conv2D,MaxPool2D,Flatten,Activation\n",
    "from tensorflow.keras.optimizers import Adam\n",
    "from keras.utils.np_utils import to_categorical\n",
    "import warnings\n",
    "warnings.filterwarnings('ignore')\n",
    "warnings.simplefilter('ignore')\n",
    "\n",
    "\n",
    "def get_encoder(input_shape=(32,16,3)):\n",
    "    model = Sequential()\n",
    "    model.add(Conv2D(32, kernel_size=[3, 3], padding=\"same\", activation='relu',input_shape=input_shape))\n",
    "    model.add(MaxPool2D(pool_size=[2, 2], strides=2, padding='same'))\n",
    "    model.add(Conv2D(48, kernel_size=[3, 3], padding=\"same\", activation='relu'))\n",
    "    model.add(MaxPool2D(pool_size=[2, 2], strides=2, padding='same'))\n",
    "    model.add(Flatten())\n",
    "    model.add(Activation('sigmoid'))\n",
    "    return model\n",
    "\n",
    "def get_task(input_shape=(1536,)):\n",
    "    model = Sequential()\n",
    "    model.add(Dense(1024, activation='relu',input_shape=input_shape))\n",
    "    model.add(Dense(512, activation='relu'))\n",
    "    model.add(Dense(128, activation='relu'))\n",
    "    model.add(Dense(34, activation=\"softmax\"))\n",
    "    return model\n",
    "\n",
    "def get_discriminator(input_shape=(1536,)):\n",
    "    model = Sequential()\n",
    "    model.add(Dense(1024, activation='relu',input_shape=input_shape))\n",
    "    model.add(Dense(512, activation='relu'))\n",
    "    model.add(Dense(128, activation='relu'))\n",
    "    model.add(Dense(32, activation='relu'))\n",
    "    model.add(Dense(1, activation='sigmoid'))\n",
    "    return model\n",
    "\n",
    "save_check_pt = './checkpoints_DANN'\n",
    "print(\"Will load models from check point dir:\",save_check_pt)"
   ]
  },
  {
   "cell_type": "code",
   "execution_count": 2,
   "id": "121903ef",
   "metadata": {},
   "outputs": [
    {
     "name": "stdout",
     "output_type": "stream",
     "text": [
      "sample one picture predcict shape with one hot encoding (1, 34)\n",
      "one picture actual outcome 31\n",
      "sample one picture predcict shape with one hot encoding (3, 34)\n",
      "one picture actual outcome [31 31 31]\n"
     ]
    }
   ],
   "source": [
    "# Sample to load model\n",
    "#Dummy inputs to load model\n",
    "xs=np.zeros((8446, 32, 16, 3))\n",
    "ys=np.zeros((8446, 34))\n",
    "xt=np.zeros((762, 32, 16, 3))\n",
    "yt=np.zeros((762, 34))\n",
    "weather_model = DANN(get_encoder(), get_task(), get_discriminator(),\n",
    "             lambda_=0.1, optimizer=Adam(0.0001),loss='CategoricalCrossentropy',metrics=[\"acc\"],random_state=0)\n",
    "weather_model.fit(xs, ys,xt,yt, epochs=0,verbose=1,batch_size = 32) # NO fit happen, just dummy step to load model\n",
    "weather_model.load_weights(save_check_pt+ '/weather')\n",
    "\n",
    "#sample input and predict\n",
    "sample_in = np.zeros((32,16,3)) #Simulates one color picutre with shape(h,w,3)=(32,16,3)\n",
    "predction = weather_model.predict(sample_in.reshape([-1,32,16,3]))\n",
    "print(\"sample one picture predcict shape with one hot encoding\",np.shape(predction))# prediction is one-hot encoding\n",
    "print(\"one picture actual outcome\",np.argmax(predction)) # actual predict outcome\n",
    "\n",
    "#sample input with two pictures and predction\n",
    "sample_in = np.zeros((3,32,16,3))# three pictures\n",
    "predction = weather_model.predict(sample_in)\n",
    "print(\"sample one picture predcict shape with one hot encoding\",np.shape(predction))# prediction is one-hot encoding\n",
    "print(\"one picture actual outcome\",np.argmax(predction,axis=1)) # actual predict outcome"
   ]
  },
  {
   "cell_type": "code",
   "execution_count": 3,
   "id": "cb6cb1ee",
   "metadata": {},
   "outputs": [
    {
     "name": "stdout",
     "output_type": "stream",
     "text": [
      "sample one picture predcict shape with one hot encoding (1, 34)\n",
      "one picture actual outcome 1\n",
      "sample one picture predcict shape with one hot encoding (3, 34)\n",
      "one picture actual outcome [1 1 1]\n"
     ]
    }
   ],
   "source": [
    "#Dummy inputs to load model\n",
    "xs=np.zeros((8446, 32, 16, 3))\n",
    "ys=np.zeros((8446, 34))\n",
    "xt=np.zeros((109, 32, 16, 3))\n",
    "yt=np.zeros((109, 34))\n",
    "challenge_model = DANN(get_encoder(), get_task(), get_discriminator(),\n",
    "             lambda_=0.1, optimizer=Adam(0.0001),loss='CategoricalCrossentropy',metrics=[\"acc\"],random_state=0)\n",
    "challenge_model.fit(xs, ys,xt,yt, epochs=0,verbose=1,batch_size = 32) # NO fit happen, just dummy step to load model\n",
    "challenge_model.load_weights(save_check_pt+ '/challenge')\n",
    "\n",
    "#sample input and predict\n",
    "sample_in = np.zeros((32,16,3)) #Simulates one color picutre with shape(h,w,3)=(32,16,3)\n",
    "predction = challenge_model.predict(sample_in.reshape([-1,32,16,3]))\n",
    "print(\"sample one picture predcict shape with one hot encoding\",np.shape(predction))# prediction is one-hot encoding\n",
    "print(\"one picture actual outcome\",np.argmax(predction)) # actual predict outcome\n",
    "\n",
    "#sample input with two pictures and predction\n",
    "sample_in = np.zeros((3,32,16,3))# three pictures\n",
    "predction = challenge_model.predict(sample_in)\n",
    "print(\"sample one picture predcict shape with one hot encoding\",np.shape(predction))# prediction is one-hot encoding\n",
    "print(\"one picture actual outcome\",np.argmax(predction,axis=1)) # actual predict outcome"
   ]
  },
  {
   "cell_type": "code",
   "execution_count": 4,
   "id": "d56dab72",
   "metadata": {},
   "outputs": [
    {
     "name": "stdout",
     "output_type": "stream",
     "text": [
      "sample one picture predcict shape with one hot encoding (1, 34)\n",
      "one picture actual outcome 18\n",
      "sample one picture predcict shape with one hot encoding (3, 34)\n",
      "one picture actual outcome [18 18 18]\n"
     ]
    }
   ],
   "source": [
    "#Dummy inputs to load model\n",
    "xs=np.zeros((8446, 32, 16, 3))\n",
    "ys=np.zeros((8446, 34))\n",
    "xt=np.zeros((373, 32, 16, 3))\n",
    "yt=np.zeros((373, 34))\n",
    "db_model = DANN(get_encoder(), get_task(), get_discriminator(),\n",
    "             lambda_=0.1, optimizer=Adam(0.0001),loss='CategoricalCrossentropy',metrics=[\"acc\"],random_state=0)\n",
    "db_model.fit(xs, ys,xt,yt, epochs=0,verbose=1,batch_size = 32) # NO fit happen, just dummy step to load model\n",
    "db_model.load_weights(save_check_pt+ '/db')\n",
    "\n",
    "#sample input and predict\n",
    "sample_in = np.zeros((32,16,3)) #Simulates one color picutre with shape(h,w,3)=(32,16,3)\n",
    "predction = db_model.predict(sample_in.reshape([-1,32,16,3]))\n",
    "print(\"sample one picture predcict shape with one hot encoding\",np.shape(predction))# prediction is one-hot encoding\n",
    "print(\"one picture actual outcome\",np.argmax(predction)) # actual predict outcome\n",
    "\n",
    "#sample input with two pictures and predction\n",
    "sample_in = np.zeros((3,32,16,3))# three pictures\n",
    "predction = db_model.predict(sample_in)\n",
    "print(\"sample one picture predcict shape with one hot encoding\",np.shape(predction))# prediction is one-hot encoding\n",
    "print(\"one picture actual outcome\",np.argmax(predction,axis=1)) # actual predict outcome"
   ]
  },
  {
   "cell_type": "code",
   "execution_count": 5,
   "id": "54f597eb",
   "metadata": {},
   "outputs": [
    {
     "name": "stdout",
     "output_type": "stream",
     "text": [
      "sample one picture predcict shape with one hot encoding (1, 34)\n",
      "one picture actual outcome 21\n",
      "sample one picture predcict shape with one hot encoding (3, 34)\n",
      "one picture actual outcome [21 21 21]\n"
     ]
    }
   ],
   "source": [
    "#Dummy inputs to load model\n",
    "xs=np.zeros((8446, 32, 16, 3))\n",
    "ys=np.zeros((8446, 34))\n",
    "xt=np.zeros((48, 32, 16, 3))\n",
    "yt=np.zeros((48, 34))\n",
    "fn_model = DANN(get_encoder(), get_task(), get_discriminator(),\n",
    "             lambda_=0.1, optimizer=Adam(0.0001),loss='CategoricalCrossentropy',metrics=[\"acc\"],random_state=0)\n",
    "fn_model.fit(xs, ys,xt,yt, epochs=0,verbose=1,batch_size = 32) # NO fit happen, just dummy step to load model\n",
    "fn_model.load_weights(save_check_pt+ '/fn')\n",
    "\n",
    "#sample input and predict\n",
    "sample_in = np.zeros((32,16,3)) #Simulates one color picutre with shape(h,w,3)=(32,16,3)\n",
    "predction = fn_model.predict(sample_in.reshape([-1,32,16,3]))\n",
    "print(\"sample one picture predcict shape with one hot encoding\",np.shape(predction))# prediction is one-hot encoding\n",
    "print(\"one picture actual outcome\",np.argmax(predction)) # actual predict outcome\n",
    "\n",
    "#sample input with two pictures and predction\n",
    "sample_in = np.zeros((3,32,16,3))# three pictures\n",
    "predction = fn_model.predict(sample_in)\n",
    "print(\"sample one picture predcict shape with one hot encoding\",np.shape(predction))# prediction is one-hot encoding\n",
    "print(\"one picture actual outcome\",np.argmax(predction,axis=1)) # actual predict outcome"
   ]
  }
 ],
 "metadata": {
  "kernelspec": {
   "display_name": "Python 3 (ipykernel)",
   "language": "python",
   "name": "python3"
  },
  "language_info": {
   "codemirror_mode": {
    "name": "ipython",
    "version": 3
   },
   "file_extension": ".py",
   "mimetype": "text/x-python",
   "name": "python",
   "nbconvert_exporter": "python",
   "pygments_lexer": "ipython3",
   "version": "3.9.7"
  }
 },
 "nbformat": 4,
 "nbformat_minor": 5
}
